{
  "cells": [
    {
      "cell_type": "markdown",
      "metadata": {
        "id": "1s8DrONVSLKH"
      },
      "source": [
        "# **Import all module**\n"
      ]
    },
    {
      "cell_type": "code",
      "execution_count": null,
      "metadata": {
        "colab": {
          "base_uri": "https://localhost:8080/"
        },
        "id": "iobjvIjbIhpK",
        "outputId": "2b0b1691-0e82-4b8c-d3eb-93a6bb772910"
      },
      "outputs": [
        {
          "ename": "",
          "evalue": "",
          "output_type": "error",
          "traceback": [
            "\u001b[1;31mRunning cells with 'Python 3.9.13' requires the ipykernel package.\n",
            "\u001b[1;31mRun the following command to install 'ipykernel' into the Python environment. \n",
            "\u001b[1;31mCommand: '\"c:/Users/Jayesh Patidar/AppData/Local/Microsoft/WindowsApps/python3.9.exe\" -m pip install ipykernel -U --user --force-reinstall'"
          ]
        }
      ],
      "source": [
        "!pip install scikit-learn\n"
      ]
    },
    {
      "cell_type": "code",
      "execution_count": null,
      "metadata": {
        "colab": {
          "base_uri": "https://localhost:8080/"
        },
        "id": "Fbq9bsbi7I9z",
        "outputId": "cd2b1ec6-39c0-4254-98a9-07c3a98b506d"
      },
      "outputs": [
        {
          "ename": "",
          "evalue": "",
          "output_type": "error",
          "traceback": [
            "\u001b[1;31mRunning cells with 'Python 3.9.13' requires the ipykernel package.\n",
            "\u001b[1;31mRun the following command to install 'ipykernel' into the Python environment. \n",
            "\u001b[1;31mCommand: '\"c:/Users/Jayesh Patidar/AppData/Local/Microsoft/WindowsApps/python3.9.exe\" -m pip install ipykernel -U --user --force-reinstall'"
          ]
        }
      ],
      "source": [
        "!pip install seaborn"
      ]
    },
    {
      "cell_type": "code",
      "execution_count": null,
      "metadata": {
        "colab": {
          "base_uri": "https://localhost:8080/"
        },
        "id": "tNNekcPPIEOx",
        "outputId": "52b2ba95-4d04-42ff-fc76-4ab29a25fb59"
      },
      "outputs": [
        {
          "ename": "",
          "evalue": "",
          "output_type": "error",
          "traceback": [
            "\u001b[1;31mRunning cells with 'Python 3.9.13' requires the ipykernel package.\n",
            "\u001b[1;31mRun the following command to install 'ipykernel' into the Python environment. \n",
            "\u001b[1;31mCommand: '\"c:/Users/Jayesh Patidar/AppData/Local/Microsoft/WindowsApps/python3.9.exe\" -m pip install ipykernel -U --user --force-reinstall'"
          ]
        }
      ],
      "source": [
        "!pip install sklearn\n",
        "import sklearn.preprocessing"
      ]
    },
    {
      "cell_type": "code",
      "execution_count": null,
      "metadata": {
        "colab": {
          "base_uri": "https://localhost:8080/"
        },
        "id": "3b5VjSX0IZvj",
        "outputId": "7efc49b5-ea6f-460a-c373-42d04abfaca4"
      },
      "outputs": [
        {
          "ename": "",
          "evalue": "",
          "output_type": "error",
          "traceback": [
            "\u001b[1;31mRunning cells with 'Python 3.9.13' requires the ipykernel package.\n",
            "\u001b[1;31mRun the following command to install 'ipykernel' into the Python environment. \n",
            "\u001b[1;31mCommand: '\"c:/Users/Jayesh Patidar/AppData/Local/Microsoft/WindowsApps/python3.9.exe\" -m pip install ipykernel -U --user --force-reinstall'"
          ]
        }
      ],
      "source": [
        "!pip install --upgrade pip\n"
      ]
    },
    {
      "cell_type": "code",
      "execution_count": null,
      "metadata": {
        "colab": {
          "base_uri": "https://localhost:8080/"
        },
        "id": "_6LwtVsBitXA",
        "outputId": "d1c7d2e7-cd53-4d47-b338-eb33b585ea6c"
      },
      "outputs": [
        {
          "ename": "",
          "evalue": "",
          "output_type": "error",
          "traceback": [
            "\u001b[1;31mRunning cells with 'Python 3.9.13' requires the ipykernel package.\n",
            "\u001b[1;31mRun the following command to install 'ipykernel' into the Python environment. \n",
            "\u001b[1;31mCommand: '\"c:/Users/Jayesh Patidar/AppData/Local/Microsoft/WindowsApps/python3.9.exe\" -m pip install ipykernel -U --user --force-reinstall'"
          ]
        }
      ],
      "source": [
        "!pip install apto"
      ]
    },
    {
      "cell_type": "code",
      "execution_count": null,
      "metadata": {
        "id": "-RBMei2MQB0X"
      },
      "outputs": [
        {
          "ename": "",
          "evalue": "",
          "output_type": "error",
          "traceback": [
            "\u001b[1;31mRunning cells with 'Python 3.9.13' requires the ipykernel package.\n",
            "\u001b[1;31mRun the following command to install 'ipykernel' into the Python environment. \n",
            "\u001b[1;31mCommand: '\"c:/Users/Jayesh Patidar/AppData/Local/Microsoft/WindowsApps/python3.9.exe\" -m pip install ipykernel -U --user --force-reinstall'"
          ]
        }
      ],
      "source": [
        "import pandas as pd\n",
        "import numpy as np\n",
        "import matplotlib.pyplot as plt\n",
        "import seaborn as sns\n",
        "import pprint\n",
        "%matplotlib inline"
      ]
    },
    {
      "cell_type": "markdown",
      "metadata": {
        "id": "9VmGAc0gSXaG"
      },
      "source": [
        "# **Dataset**"
      ]
    },
    {
      "cell_type": "code",
      "execution_count": null,
      "metadata": {
        "colab": {
          "base_uri": "https://localhost:8080/"
        },
        "id": "sU-wZkDcQaEU",
        "outputId": "f321bb75-3b73-4237-b9d5-d279d372170e"
      },
      "outputs": [
        {
          "ename": "",
          "evalue": "",
          "output_type": "error",
          "traceback": [
            "\u001b[1;31mRunning cells with 'Python 3.9.13' requires the ipykernel package.\n",
            "\u001b[1;31mRun the following command to install 'ipykernel' into the Python environment. \n",
            "\u001b[1;31mCommand: '\"c:/Users/Jayesh Patidar/AppData/Local/Microsoft/WindowsApps/python3.9.exe\" -m pip install ipykernel -U --user --force-reinstall'"
          ]
        }
      ],
      "source": [
        "df = pd.read_csv(\"/content/AEP_hourly.csv\")\n",
        "print(\"=\"*50)\n",
        "print(\"First Five Rows \",\"\\n\")\n",
        "print(df.head(2),\"\\n\")\n",
        "\n",
        "print(\"=\"*50)\n",
        "print(\"Information About Dataset\",\"\\n\")\n",
        "print(df.info(),\"\\n\")\n",
        "\n",
        "print(\"=\"*50)\n",
        "print(\"Describe the Dataset \",\"\\n\")\n",
        "print(df.describe(),\"\\n\")\n",
        "\n",
        "print(\"=\"*50)\n",
        "print(\"Null Values t \",\"\\n\")\n",
        "print(df.isnull().sum(),\"\\n\")\n"
      ]
    },
    {
      "cell_type": "markdown",
      "metadata": {
        "id": "dUOL7HucShKO"
      },
      "source": [
        "# **Extracting Features from Dataset**"
      ]
    },
    {
      "cell_type": "code",
      "execution_count": null,
      "metadata": {
        "colab": {
          "base_uri": "https://localhost:8080/",
          "height": 167
        },
        "id": "uJfHuEiySHeZ",
        "outputId": "494b36a6-b2d2-46ec-9661-a7c69c5b6da5"
      },
      "outputs": [
        {
          "ename": "",
          "evalue": "",
          "output_type": "error",
          "traceback": [
            "\u001b[1;31mRunning cells with 'Python 3.9.13' requires the ipykernel package.\n",
            "\u001b[1;31mRun the following command to install 'ipykernel' into the Python environment. \n",
            "\u001b[1;31mCommand: '\"c:/Users/Jayesh Patidar/AppData/Local/Microsoft/WindowsApps/python3.9.exe\" -m pip install ipykernel -U --user --force-reinstall'"
          ]
        }
      ],
      "source": [
        "# Extract all Data Like Year MOnth Day Time etc\n",
        "dataset = df\n",
        "dataset[\"Month\"] = pd.to_datetime(df[\"Datetime\"]).dt.month\n",
        "dataset[\"Year\"] = pd.to_datetime(df[\"Datetime\"]).dt.year\n",
        "dataset[\"Date\"] = pd.to_datetime(df[\"Datetime\"]).dt.date\n",
        "dataset[\"Time\"] = pd.to_datetime(df[\"Datetime\"]).dt.time\n",
        "dataset[\"Week\"] = pd.to_datetime(df[\"Datetime\"]).dt.week\n",
        "dataset[\"Day\"] = pd.to_datetime(df[\"Datetime\"]).dt.day_name()\n",
        "dataset = df.set_index(\"Datetime\")\n",
        "dataset.index = pd.to_datetime(dataset.index)\n",
        "dataset.head(1)"
      ]
    },
    {
      "cell_type": "code",
      "execution_count": null,
      "metadata": {
        "colab": {
          "base_uri": "https://localhost:8080/"
        },
        "id": "Ew5U-V4KTpOI",
        "outputId": "1f2af7a0-8eef-4b20-a786-aa0e630b8d27"
      },
      "outputs": [
        {
          "ename": "",
          "evalue": "",
          "output_type": "error",
          "traceback": [
            "\u001b[1;31mRunning cells with 'Python 3.9.13' requires the ipykernel package.\n",
            "\u001b[1;31mRun the following command to install 'ipykernel' into the Python environment. \n",
            "\u001b[1;31mCommand: '\"c:/Users/Jayesh Patidar/AppData/Local/Microsoft/WindowsApps/python3.9.exe\" -m pip install ipykernel -U --user --force-reinstall'"
          ]
        }
      ],
      "source": [
        "print(df.Year.unique(),\"/n\")\n",
        "print(\"Total NUmber of Unique Year\", df.Year.nunique(), \"/n\")"
      ]
    },
    {
      "cell_type": "markdown",
      "metadata": {
        "id": "vzvVU_OsSmNa"
      },
      "source": [
        "# **Data Visualization**"
      ]
    },
    {
      "cell_type": "code",
      "execution_count": null,
      "metadata": {
        "colab": {
          "base_uri": "https://localhost:8080/",
          "height": 548
        },
        "id": "y3FipaMrVzjo",
        "outputId": "c9c9b94e-a5d4-4bd8-a102-8435d56c4baf"
      },
      "outputs": [
        {
          "ename": "",
          "evalue": "",
          "output_type": "error",
          "traceback": [
            "\u001b[1;31mRunning cells with 'Python 3.9.13' requires the ipykernel package.\n",
            "\u001b[1;31mRun the following command to install 'ipykernel' into the Python environment. \n",
            "\u001b[1;31mCommand: '\"c:/Users/Jayesh Patidar/AppData/Local/Microsoft/WindowsApps/python3.9.exe\" -m pip install ipykernel -U --user --force-reinstall'"
          ]
        }
      ],
      "source": [
        "from matplotlib import style\n",
        "\n",
        "fig = plt.figure()\n",
        "axl = plt.subplot2grid((1,1), (0,0))\n",
        "\n",
        "style.use('ggplot')\n",
        "\n",
        "sns.lineplot(x=dataset[\"Year\"], y=dataset[\"AEP_MW\"], data=df)\n",
        "sns.set(rc={'figure.figsize' :(15,6)})\n",
        "\n",
        "plt.title(\"Energy consumption in year 2004\")\n",
        "plt.xlabel(\"Date\")\n",
        "plt.ylabel(\"Energy in MW\")\n",
        "plt.grid(True)\n",
        "plt.legend()\n",
        "\n",
        "\n",
        "for label in axl.xaxis.get_ticklabels():\n",
        "  label.set_rotation(90)\n",
        "\n",
        "plt.title(\"Energy Consumption According to Year\")"
      ]
    },
    {
      "cell_type": "markdown",
      "metadata": {
        "id": "bfo35KC03lJc"
      },
      "source": [
        "# Energy Consumption Each Year"
      ]
    },
    {
      "cell_type": "code",
      "execution_count": null,
      "metadata": {
        "colab": {
          "base_uri": "https://localhost:8080/",
          "height": 534
        },
        "id": "V-s759j03vFr",
        "outputId": "033bfe4e-dd5f-43b0-a1bd-e41d21d27617"
      },
      "outputs": [
        {
          "ename": "",
          "evalue": "",
          "output_type": "error",
          "traceback": [
            "\u001b[1;31mRunning cells with 'Python 3.9.13' requires the ipykernel package.\n",
            "\u001b[1;31mRun the following command to install 'ipykernel' into the Python environment. \n",
            "\u001b[1;31mCommand: '\"c:/Users/Jayesh Patidar/AppData/Local/Microsoft/WindowsApps/python3.9.exe\" -m pip install ipykernel -U --user --force-reinstall'"
          ]
        }
      ],
      "source": [
        "from matplotlib import style\n",
        "\n",
        "\n",
        "fig = plt.figure()\n",
        "\n",
        "ax1= fig.add_subplot(311)\n",
        "ax2= fig.add_subplot(312)\n",
        "ax3= fig.add_subplot(313)\n",
        "\n",
        "\n",
        "style.use('ggplot')\n",
        "\n",
        "y_2004 = dataset[\"2004\"][\"AEP_MW\"].to_list()\n",
        "x_2004 = dataset[\"2004\"][\"Date\"].to_list()\n",
        "ax1.plot(x_2004,y_2004, color=\"green\", linewidth=1.7)\n",
        "\n",
        "\n",
        "y_2005 = dataset[\"2005\"][\"AEP_MW\"].to_list()\n",
        "x_2005 = dataset[\"2005\"][\"Date\"].to_list()\n",
        "ax2.plot(x_2005, y_2005, color=\"green\", linewidth=1)\n",
        "\n",
        "\n",
        "y_2006 = dataset[\"2006\"][\"AEP_MW\"].to_list()\n",
        "x_2006 = dataset[\"2006\"][\"Date\"].to_list()\n",
        "ax3.plot(x_2006, y_2006, color=\"green\", linewidth=1)\n",
        "\n",
        "\n",
        "plt.rcParams[\"figure.figsize\"] = (18,8)\n",
        "plt.title(\"Energy consumptionnin\")\n",
        "plt.xlabel(\"Date\")\n",
        "plt.ylabel(\"Energy in MW\")\n",
        "plt.grid(True, alpha=1)\n",
        "plt.legend()\n",
        "\n",
        "for label in ax1.xaxis.get_ticklabels():\n",
        "    label.set_rotation(90)"
      ]
    },
    {
      "cell_type": "markdown",
      "metadata": {
        "id": "92mmbXqm4ZKV"
      },
      "source": [
        "# Energy Distribution"
      ]
    },
    {
      "cell_type": "code",
      "execution_count": null,
      "metadata": {
        "colab": {
          "base_uri": "https://localhost:8080/",
          "height": 528
        },
        "id": "4GRIrRW04fLg",
        "outputId": "c736722e-f427-452c-c63a-8e3afd02f000"
      },
      "outputs": [
        {
          "ename": "",
          "evalue": "",
          "output_type": "error",
          "traceback": [
            "\u001b[1;31mRunning cells with 'Python 3.9.13' requires the ipykernel package.\n",
            "\u001b[1;31mRun the following command to install 'ipykernel' into the Python environment. \n",
            "\u001b[1;31mCommand: '\"c:/Users/Jayesh Patidar/AppData/Local/Microsoft/WindowsApps/python3.9.exe\" -m pip install ipykernel -U --user --force-reinstall'"
          ]
        }
      ],
      "source": [
        "sns.distplot(dataset[\"AEP_MW\"])\n",
        "plt.title(\"Energy Distribution\")"
      ]
    },
    {
      "cell_type": "markdown",
      "metadata": {
        "id": "jiKQ-VGb5TgW"
      },
      "source": [
        "# Energy with Respect to TIme"
      ]
    },
    {
      "cell_type": "code",
      "execution_count": null,
      "metadata": {
        "colab": {
          "base_uri": "https://localhost:8080/"
        },
        "id": "5qh8lxgXjiJB",
        "outputId": "98427da5-e42b-4d30-b078-7def03e38cf4"
      },
      "outputs": [
        {
          "ename": "",
          "evalue": "",
          "output_type": "error",
          "traceback": [
            "\u001b[1;31mRunning cells with 'Python 3.9.13' requires the ipykernel package.\n",
            "\u001b[1;31mRun the following command to install 'ipykernel' into the Python environment. \n",
            "\u001b[1;31mCommand: '\"c:/Users/Jayesh Patidar/AppData/Local/Microsoft/WindowsApps/python3.9.exe\" -m pip install ipykernel -U --user --force-reinstall'"
          ]
        }
      ],
      "source": [
        "# Check the dataset for the 'DateTime' column.\n",
        "print(dataset.columns)"
      ]
    },
    {
      "cell_type": "code",
      "execution_count": null,
      "metadata": {
        "id": "q8YgjzzOj9uW"
      },
      "outputs": [
        {
          "ename": "",
          "evalue": "",
          "output_type": "error",
          "traceback": [
            "\u001b[1;31mRunning cells with 'Python 3.9.13' requires the ipykernel package.\n",
            "\u001b[1;31mRun the following command to install 'ipykernel' into the Python environment. \n",
            "\u001b[1;31mCommand: '\"c:/Users/Jayesh Patidar/AppData/Local/Microsoft/WindowsApps/python3.9.exe\" -m pip install ipykernel -U --user --force-reinstall'"
          ]
        }
      ],
      "source": [
        "import datetime"
      ]
    },
    {
      "cell_type": "code",
      "execution_count": null,
      "metadata": {
        "id": "mxIg7DltkADH"
      },
      "outputs": [
        {
          "ename": "",
          "evalue": "",
          "output_type": "error",
          "traceback": [
            "\u001b[1;31mRunning cells with 'Python 3.9.13' requires the ipykernel package.\n",
            "\u001b[1;31mRun the following command to install 'ipykernel' into the Python environment. \n",
            "\u001b[1;31mCommand: '\"c:/Users/Jayesh Patidar/AppData/Local/Microsoft/WindowsApps/python3.9.exe\" -m pip install ipykernel -U --user --force-reinstall'"
          ]
        }
      ],
      "source": [
        "dataset['Date'] = pd.to_datetime(dataset['Date'])"
      ]
    },
    {
      "cell_type": "code",
      "execution_count": null,
      "metadata": {
        "id": "HLTrZlxYkCB9"
      },
      "outputs": [
        {
          "ename": "",
          "evalue": "",
          "output_type": "error",
          "traceback": [
            "\u001b[1;31mRunning cells with 'Python 3.9.13' requires the ipykernel package.\n",
            "\u001b[1;31mRun the following command to install 'ipykernel' into the Python environment. \n",
            "\u001b[1;31mCommand: '\"c:/Users/Jayesh Patidar/AppData/Local/Microsoft/WindowsApps/python3.9.exe\" -m pip install ipykernel -U --user --force-reinstall'"
          ]
        }
      ],
      "source": [
        "dataset['Time'] = dataset['Time'].astype(str)"
      ]
    },
    {
      "cell_type": "code",
      "execution_count": null,
      "metadata": {
        "id": "DTOCU4KqkOSv"
      },
      "outputs": [
        {
          "ename": "",
          "evalue": "",
          "output_type": "error",
          "traceback": [
            "\u001b[1;31mRunning cells with 'Python 3.9.13' requires the ipykernel package.\n",
            "\u001b[1;31mRun the following command to install 'ipykernel' into the Python environment. \n",
            "\u001b[1;31mCommand: '\"c:/Users/Jayesh Patidar/AppData/Local/Microsoft/WindowsApps/python3.9.exe\" -m pip install ipykernel -U --user --force-reinstall'"
          ]
        }
      ],
      "source": [
        "dataset['Date'] = pd.to_datetime(dataset['Date'])\n",
        "dataset['Time'] = pd.to_datetime(dataset['Time'])\n"
      ]
    },
    {
      "cell_type": "code",
      "execution_count": null,
      "metadata": {
        "id": "Hx-Q9olekoS9"
      },
      "outputs": [
        {
          "ename": "",
          "evalue": "",
          "output_type": "error",
          "traceback": [
            "\u001b[1;31mRunning cells with 'Python 3.9.13' requires the ipykernel package.\n",
            "\u001b[1;31mRun the following command to install 'ipykernel' into the Python environment. \n",
            "\u001b[1;31mCommand: '\"c:/Users/Jayesh Patidar/AppData/Local/Microsoft/WindowsApps/python3.9.exe\" -m pip install ipykernel -U --user --force-reinstall'"
          ]
        }
      ],
      "source": [
        "dataset['DateTime'] = dataset['Date'] + pd.to_timedelta(dataset['Time'].dt.strftime('%H:%M:%S'))\n"
      ]
    },
    {
      "cell_type": "code",
      "execution_count": null,
      "metadata": {
        "id": "SjdDjIO1ksFk"
      },
      "outputs": [
        {
          "ename": "",
          "evalue": "",
          "output_type": "error",
          "traceback": [
            "\u001b[1;31mRunning cells with 'Python 3.9.13' requires the ipykernel package.\n",
            "\u001b[1;31mRun the following command to install 'ipykernel' into the Python environment. \n",
            "\u001b[1;31mCommand: '\"c:/Users/Jayesh Patidar/AppData/Local/Microsoft/WindowsApps/python3.9.exe\" -m pip install ipykernel -U --user --force-reinstall'"
          ]
        }
      ],
      "source": [
        "import pandas as pd\n",
        "\n",
        "# Assuming 'Date' and 'Time' columns are already in datetime format\n",
        "# If not, convert them to datetime first using pd.to_datetime()\n",
        "\n",
        "# Convert 'Date' column to string format\n",
        "dataset['Date'] = dataset['Date'].dt.strftime('%Y-%m-%d')  # Change the format accordingly\n",
        "\n",
        "# Convert 'Time' column to string format\n",
        "dataset['Time'] = dataset['Time'].dt.strftime('%H:%M:%S')  # Change the format accordingly\n",
        "\n",
        "# Concatenate 'Date' and 'Time' columns with a space in between\n",
        "dataset['DateTime'] = dataset['Date'] + ' ' + dataset['Time']\n"
      ]
    },
    {
      "cell_type": "code",
      "execution_count": null,
      "metadata": {
        "colab": {
          "base_uri": "https://localhost:8080/",
          "height": 383
        },
        "id": "CBv3a3NSYAYC",
        "outputId": "332c3d48-d98e-4ee0-9921-a5a65908b741"
      },
      "outputs": [
        {
          "ename": "",
          "evalue": "",
          "output_type": "error",
          "traceback": [
            "\u001b[1;31mRunning cells with 'Python 3.9.13' requires the ipykernel package.\n",
            "\u001b[1;31mRun the following command to install 'ipykernel' into the Python environment. \n",
            "\u001b[1;31mCommand: '\"c:/Users/Jayesh Patidar/AppData/Local/Microsoft/WindowsApps/python3.9.exe\" -m pip install ipykernel -U --user --force-reinstall'"
          ]
        }
      ],
      "source": [
        "fig = plt.figure()\n",
        "axl = fig.add_subplot(111)\n",
        "\n",
        "sns.lineplot(x=dataset[\"Time\"], y=dataset[\"AEP_MW\"], data=df)\n",
        "plt.title(\"Energy Consumption vs Time\")\n",
        "plt.xlabel(\"Time\")\n",
        "plt.grid(True, alpha=1)\n",
        "plt.legend()\n",
        "\n",
        "for label in axl.xaxis.get_ticklabels():\n",
        "  label.set_rotation(90)"
      ]
    },
    {
      "cell_type": "markdown",
      "metadata": {
        "id": "ETVgUrIAY8te"
      },
      "source": [
        "# Resampling Data"
      ]
    },
    {
      "cell_type": "code",
      "execution_count": null,
      "metadata": {
        "colab": {
          "base_uri": "https://localhost:8080/"
        },
        "id": "_T9QFJHFYufx",
        "outputId": "17565869-001a-49f6-d3ec-cb5a748ea768"
      },
      "outputs": [
        {
          "ename": "",
          "evalue": "",
          "output_type": "error",
          "traceback": [
            "\u001b[1;31mRunning cells with 'Python 3.9.13' requires the ipykernel package.\n",
            "\u001b[1;31mRun the following command to install 'ipykernel' into the Python environment. \n",
            "\u001b[1;31mCommand: '\"c:/Users/Jayesh Patidar/AppData/Local/Microsoft/WindowsApps/python3.9.exe\" -m pip install ipykernel -U --user --force-reinstall'"
          ]
        }
      ],
      "source": [
        "NewDataSet = dataset.resample('D').mean()"
      ]
    },
    {
      "cell_type": "code",
      "execution_count": null,
      "metadata": {
        "colab": {
          "base_uri": "https://localhost:8080/"
        },
        "id": "K73G4rPmZKQX",
        "outputId": "a09e54ff-e0d6-43ae-bd2a-dcbebcbcef09"
      },
      "outputs": [
        {
          "ename": "",
          "evalue": "",
          "output_type": "error",
          "traceback": [
            "\u001b[1;31mRunning cells with 'Python 3.9.13' requires the ipykernel package.\n",
            "\u001b[1;31mRun the following command to install 'ipykernel' into the Python environment. \n",
            "\u001b[1;31mCommand: '\"c:/Users/Jayesh Patidar/AppData/Local/Microsoft/WindowsApps/python3.9.exe\" -m pip install ipykernel -U --user --force-reinstall'"
          ]
        }
      ],
      "source": [
        "print(\"Old Dataset \", dataset.shape)\n",
        "print(\"New Dataset \", NewDataSet.shape)"
      ]
    },
    {
      "cell_type": "code",
      "execution_count": null,
      "metadata": {
        "id": "4COfiFCiEiwN"
      },
      "outputs": [
        {
          "ename": "",
          "evalue": "",
          "output_type": "error",
          "traceback": [
            "\u001b[1;31mRunning cells with 'Python 3.9.13' requires the ipykernel package.\n",
            "\u001b[1;31mRun the following command to install 'ipykernel' into the Python environment. \n",
            "\u001b[1;31mCommand: '\"c:/Users/Jayesh Patidar/AppData/Local/Microsoft/WindowsApps/python3.9.exe\" -m pip install ipykernel -U --user --force-reinstall'"
          ]
        }
      ],
      "source": [
        "TestData = NewDataSet.tail(100)\n",
        "\n",
        "Training_Set = NewDataSet.iloc[:, 0:1]\n",
        "\n",
        "Training_Set = Training_Set[:-60]"
      ]
    },
    {
      "cell_type": "code",
      "execution_count": null,
      "metadata": {
        "colab": {
          "base_uri": "https://localhost:8080/"
        },
        "id": "bz0SPP1mGHue",
        "outputId": "1e60c78b-3d78-4469-d115-6d6f943642c2"
      },
      "outputs": [
        {
          "ename": "",
          "evalue": "",
          "output_type": "error",
          "traceback": [
            "\u001b[1;31mRunning cells with 'Python 3.9.13' requires the ipykernel package.\n",
            "\u001b[1;31mRun the following command to install 'ipykernel' into the Python environment. \n",
            "\u001b[1;31mCommand: '\"c:/Users/Jayesh Patidar/AppData/Local/Microsoft/WindowsApps/python3.9.exe\" -m pip install ipykernel -U --user --force-reinstall'"
          ]
        }
      ],
      "source": [
        "print(\"Training Set Shape\", Training_Set.shape)\n",
        "print(\"Test Set Shape\", TestData.shape)"
      ]
    },
    {
      "cell_type": "code",
      "execution_count": null,
      "metadata": {
        "id": "d61mTRYfGdyp"
      },
      "outputs": [
        {
          "ename": "",
          "evalue": "",
          "output_type": "error",
          "traceback": [
            "\u001b[1;31mRunning cells with 'Python 3.9.13' requires the ipykernel package.\n",
            "\u001b[1;31mRun the following command to install 'ipykernel' into the Python environment. \n",
            "\u001b[1;31mCommand: '\"c:/Users/Jayesh Patidar/AppData/Local/Microsoft/WindowsApps/python3.9.exe\" -m pip install ipykernel -U --user --force-reinstall'"
          ]
        }
      ],
      "source": [
        "# Import the MinMaxScaler class from the sklearn.preprocessing module\n",
        "from sklearn.preprocessing import MinMaxScaler\n",
        "\n",
        "# Remove the line that attempts to get the values of the NumPy array\n",
        "# Training_Set = Training_Set.values\n",
        "\n",
        "# Create a MinMaxScaler object\n",
        "sc = MinMaxScaler(feature_range=(0, 1))\n",
        "\n",
        "# Fit and transform the Training_Set using the scaler\n",
        "Train = sc.fit_transform(Training_Set)"
      ]
    },
    {
      "cell_type": "code",
      "execution_count": null,
      "metadata": {
        "colab": {
          "base_uri": "https://localhost:8080/"
        },
        "id": "aVmIm9w7JoCD",
        "outputId": "1d243b5f-fb07-496d-cd99-523186cf3693"
      },
      "outputs": [
        {
          "ename": "",
          "evalue": "",
          "output_type": "error",
          "traceback": [
            "\u001b[1;31mRunning cells with 'Python 3.9.13' requires the ipykernel package.\n",
            "\u001b[1;31mRun the following command to install 'ipykernel' into the Python environment. \n",
            "\u001b[1;31mCommand: '\"c:/Users/Jayesh Patidar/AppData/Local/Microsoft/WindowsApps/python3.9.exe\" -m pip install ipykernel -U --user --force-reinstall'"
          ]
        }
      ],
      "source": [
        "X_Train = []\n",
        "Y_Train = []\n",
        "\n",
        "# Range should be fromm 60 Values to END\n",
        "for i in range(60, Train.shape[0]):\n",
        "\n",
        "    # X_Train 0-59\n",
        "    X_Train.append(Train[i-60:i])\n",
        "\n",
        "    # Y Would be 60 th Value based on past 60 Values\n",
        "    Y_Train.append(Train[i])\n",
        "\n",
        "# Convert into Numpy Array\n",
        "X_Train = np.array(X_Train)\n",
        "Y_Train = np.array(Y_Train)\n",
        "\n",
        "print(X_Train.shape)\n",
        "print(Y_Train.shape)\n"
      ]
    },
    {
      "cell_type": "code",
      "execution_count": null,
      "metadata": {
        "colab": {
          "base_uri": "https://localhost:8080/"
        },
        "id": "Tasic8d_KV2Z",
        "outputId": "a2f3acf6-1f10-464f-ceb2-7c3ee4e262c9"
      },
      "outputs": [
        {
          "ename": "",
          "evalue": "",
          "output_type": "error",
          "traceback": [
            "\u001b[1;31mRunning cells with 'Python 3.9.13' requires the ipykernel package.\n",
            "\u001b[1;31mRun the following command to install 'ipykernel' into the Python environment. \n",
            "\u001b[1;31mCommand: '\"c:/Users/Jayesh Patidar/AppData/Local/Microsoft/WindowsApps/python3.9.exe\" -m pip install ipykernel -U --user --force-reinstall'"
          ]
        }
      ],
      "source": [
        "# Shape should be Number of [Datapoints , Steps , 1 )\n",
        "# we convert into 3-d Vector or #rd Dimesnsion\n",
        "X_Train = np.reshape(X_Train, newshape=(X_Train.shape[0], X_Train.shape[1], 1))\n",
        "X_Train.shape"
      ]
    },
    {
      "cell_type": "markdown",
      "metadata": {
        "id": "BLeOHdaAKZA3"
      },
      "source": [
        "# Model"
      ]
    },
    {
      "cell_type": "code",
      "execution_count": null,
      "metadata": {
        "id": "M7ZNxMApL0Y_"
      },
      "outputs": [
        {
          "ename": "",
          "evalue": "",
          "output_type": "error",
          "traceback": [
            "\u001b[1;31mRunning cells with 'Python 3.9.13' requires the ipykernel package.\n",
            "\u001b[1;31mRun the following command to install 'ipykernel' into the Python environment. \n",
            "\u001b[1;31mCommand: '\"c:/Users/Jayesh Patidar/AppData/Local/Microsoft/WindowsApps/python3.9.exe\" -m pip install ipykernel -U --user --force-reinstall'"
          ]
        }
      ],
      "source": [
        "from keras.models import Sequential\n",
        "from keras.layers import LSTM, Dropout, Dense\n",
        "\n",
        "# Create a Sequential model\n",
        "regressor = Sequential()\n",
        "\n",
        "# Adding the first LSTM layer and some Dropout regularisation\n",
        "regressor.add(LSTM(units = 50, return_sequences = True, input_shape = (X_Train.shape[1], 1)))\n",
        "regressor.add(Dropout(0.2))\n",
        "\n",
        "# Adding a second LSTM layer and some Dropout regularisation\n",
        "regressor.add(LSTM(units = 50, return_sequences = True))\n",
        "regressor.add(Dropout(0.2))\n",
        "\n",
        "# Adding a third LSTM layer and some Dropout regularisation\n",
        "regressor.add(LSTM(units = 50, return_sequences = True))\n",
        "regressor.add(Dropout(0.2))\n",
        "\n",
        "# Adding a fourth LSTM layer and some Dropout regularisation\n",
        "regressor.add(LSTM(units = 50))\n",
        "regressor.add(Dropout(0.2))\n",
        "\n",
        "# Adding the output layer\n",
        "regressor.add(Dense(units = 1))\n",
        "\n",
        "# Compiling the RNN\n",
        "regressor.compile(optimizer = 'rmsprop', loss = 'mean_squared_error')"
      ]
    },
    {
      "cell_type": "code",
      "execution_count": null,
      "metadata": {
        "colab": {
          "base_uri": "https://localhost:8080/"
        },
        "id": "YoS9XNSNGUYz",
        "outputId": "785b5ca6-7071-4531-b79c-9c07f8392b12"
      },
      "outputs": [
        {
          "ename": "",
          "evalue": "",
          "output_type": "error",
          "traceback": [
            "\u001b[1;31mRunning cells with 'Python 3.9.13' requires the ipykernel package.\n",
            "\u001b[1;31mRun the following command to install 'ipykernel' into the Python environment. \n",
            "\u001b[1;31mCommand: '\"c:/Users/Jayesh Patidar/AppData/Local/Microsoft/WindowsApps/python3.9.exe\" -m pip install ipykernel -U --user --force-reinstall'"
          ]
        }
      ],
      "source": [
        "regressor.summary()"
      ]
    },
    {
      "cell_type": "code",
      "execution_count": null,
      "metadata": {
        "colab": {
          "base_uri": "https://localhost:8080/"
        },
        "id": "9VbaNE-TMOdR",
        "outputId": "7bb6c123-5e5d-4e39-b974-5e7f6d66c0a9"
      },
      "outputs": [
        {
          "ename": "",
          "evalue": "",
          "output_type": "error",
          "traceback": [
            "\u001b[1;31mRunning cells with 'Python 3.9.13' requires the ipykernel package.\n",
            "\u001b[1;31mRun the following command to install 'ipykernel' into the Python environment. \n",
            "\u001b[1;31mCommand: '\"c:/Users/Jayesh Patidar/AppData/Local/Microsoft/WindowsApps/python3.9.exe\" -m pip install ipykernel -U --user --force-reinstall'"
          ]
        }
      ],
      "source": [
        "regressor.fit(X_Train, Y_Train, epochs = 20, batch_size = 32)"
      ]
    },
    {
      "cell_type": "markdown",
      "metadata": {
        "id": "h5DuFwHz-2oi"
      },
      "source": [
        "### *Test Data*"
      ]
    },
    {
      "cell_type": "code",
      "execution_count": null,
      "metadata": {
        "colab": {
          "base_uri": "https://localhost:8080/",
          "height": 143
        },
        "id": "E7fZOFLd-5Cy",
        "outputId": "32de5166-e525-472c-995f-2f6237b423c7"
      },
      "outputs": [
        {
          "ename": "",
          "evalue": "",
          "output_type": "error",
          "traceback": [
            "\u001b[1;31mRunning cells with 'Python 3.9.13' requires the ipykernel package.\n",
            "\u001b[1;31mRun the following command to install 'ipykernel' into the Python environment. \n",
            "\u001b[1;31mCommand: '\"c:/Users/Jayesh Patidar/AppData/Local/Microsoft/WindowsApps/python3.9.exe\" -m pip install ipykernel -U --user --force-reinstall'"
          ]
        }
      ],
      "source": [
        "TestData.head(2)"
      ]
    },
    {
      "cell_type": "code",
      "execution_count": null,
      "metadata": {
        "colab": {
          "base_uri": "https://localhost:8080/"
        },
        "id": "igVQ0U1R-_fE",
        "outputId": "0ea9de5d-fb88-40b3-9943-478fb5e073a7"
      },
      "outputs": [
        {
          "ename": "",
          "evalue": "",
          "output_type": "error",
          "traceback": [
            "\u001b[1;31mRunning cells with 'Python 3.9.13' requires the ipykernel package.\n",
            "\u001b[1;31mRun the following command to install 'ipykernel' into the Python environment. \n",
            "\u001b[1;31mCommand: '\"c:/Users/Jayesh Patidar/AppData/Local/Microsoft/WindowsApps/python3.9.exe\" -m pip install ipykernel -U --user --force-reinstall'"
          ]
        }
      ],
      "source": [
        "TestData.shape"
      ]
    },
    {
      "cell_type": "code",
      "execution_count": null,
      "metadata": {
        "colab": {
          "base_uri": "https://localhost:8080/"
        },
        "id": "A91-ulkECHqT",
        "outputId": "d8181b8f-3731-4549-bc71-0a5c8ce2d97b"
      },
      "outputs": [
        {
          "ename": "",
          "evalue": "",
          "output_type": "error",
          "traceback": [
            "\u001b[1;31mRunning cells with 'Python 3.9.13' requires the ipykernel package.\n",
            "\u001b[1;31mRun the following command to install 'ipykernel' into the Python environment. \n",
            "\u001b[1;31mCommand: '\"c:/Users/Jayesh Patidar/AppData/Local/Microsoft/WindowsApps/python3.9.exe\" -m pip install ipykernel -U --user --force-reinstall'"
          ]
        }
      ],
      "source": [
        "NewDataSet.shape"
      ]
    },
    {
      "cell_type": "code",
      "execution_count": null,
      "metadata": {
        "id": "LDEVv3h-CL5r"
      },
      "outputs": [
        {
          "ename": "",
          "evalue": "",
          "output_type": "error",
          "traceback": [
            "\u001b[1;31mRunning cells with 'Python 3.9.13' requires the ipykernel package.\n",
            "\u001b[1;31mRun the following command to install 'ipykernel' into the Python environment. \n",
            "\u001b[1;31mCommand: '\"c:/Users/Jayesh Patidar/AppData/Local/Microsoft/WindowsApps/python3.9.exe\" -m pip install ipykernel -U --user --force-reinstall'"
          ]
        }
      ],
      "source": [
        "df_Total = pd.concat((NewDataSet[[\"AEP_MW\"]], TestData[[\"AEP_MW\"]]), axis=0)"
      ]
    },
    {
      "cell_type": "code",
      "execution_count": null,
      "metadata": {
        "colab": {
          "base_uri": "https://localhost:8080/"
        },
        "id": "7oMaXJp7Cb7g",
        "outputId": "3815f924-2d43-45ef-cf91-20e822f507c7"
      },
      "outputs": [
        {
          "ename": "",
          "evalue": "",
          "output_type": "error",
          "traceback": [
            "\u001b[1;31mRunning cells with 'Python 3.9.13' requires the ipykernel package.\n",
            "\u001b[1;31mRun the following command to install 'ipykernel' into the Python environment. \n",
            "\u001b[1;31mCommand: '\"c:/Users/Jayesh Patidar/AppData/Local/Microsoft/WindowsApps/python3.9.exe\" -m pip install ipykernel -U --user --force-reinstall'"
          ]
        }
      ],
      "source": [
        "df_Total.shape"
      ]
    },
    {
      "cell_type": "code",
      "execution_count": null,
      "metadata": {
        "colab": {
          "base_uri": "https://localhost:8080/"
        },
        "id": "DtbJnXnmCg1D",
        "outputId": "e5245b6b-a603-4a16-bbbe-6954688bfbb9"
      },
      "outputs": [
        {
          "ename": "",
          "evalue": "",
          "output_type": "error",
          "traceback": [
            "\u001b[1;31mRunning cells with 'Python 3.9.13' requires the ipykernel package.\n",
            "\u001b[1;31mRun the following command to install 'ipykernel' into the Python environment. \n",
            "\u001b[1;31mCommand: '\"c:/Users/Jayesh Patidar/AppData/Local/Microsoft/WindowsApps/python3.9.exe\" -m pip install ipykernel -U --user --force-reinstall'"
          ]
        }
      ],
      "source": [
        "inputs = df_Total[len(df_Total) - len(TestData) - 60:].values\n",
        "inputs.shape"
      ]
    },
    {
      "cell_type": "code",
      "execution_count": null,
      "metadata": {
        "colab": {
          "base_uri": "https://localhost:8080/"
        },
        "id": "rul6bQ9nDNce",
        "outputId": "94cf95f2-9207-4a91-a685-f514954b41bf"
      },
      "outputs": [
        {
          "ename": "",
          "evalue": "",
          "output_type": "error",
          "traceback": [
            "\u001b[1;31mRunning cells with 'Python 3.9.13' requires the ipykernel package.\n",
            "\u001b[1;31mRun the following command to install 'ipykernel' into the Python environment. \n",
            "\u001b[1;31mCommand: '\"c:/Users/Jayesh Patidar/AppData/Local/Microsoft/WindowsApps/python3.9.exe\" -m pip install ipykernel -U --user --force-reinstall'"
          ]
        }
      ],
      "source": [
        "inputs = df_Total[len(df_Total) - len(TestData) - 60:].values\n",
        "inputs = inputs.reshape(-1,1)\n",
        "\n",
        "inputs = sc.transform(inputs)\n",
        "\n",
        "X_test = []\n",
        "for i in range(60, 160):\n",
        "    X_test.append(inputs[i-60:i])\n",
        "\n",
        "# Convert into Numpy Array\n",
        "X_test = np.array(X_test)\n",
        "\n",
        "# Reshape before Passing to Network\n",
        "X_test = np.reshape(X_test, (X_test.shape[0], X_test.shape[1], 1))\n",
        "\n",
        "# Pass to Model\n",
        "predicted_stock_price = regressor.predict(X_test)\n",
        "\n",
        "# Do inverse Transformation to get Values\n",
        "predicted_stock_price = sc.inverse_transform(predicted_stock_price)"
      ]
    },
    {
      "cell_type": "code",
      "execution_count": null,
      "metadata": {
        "id": "2DGLLIDDDV-t"
      },
      "outputs": [
        {
          "ename": "",
          "evalue": "",
          "output_type": "error",
          "traceback": [
            "\u001b[1;31mRunning cells with 'Python 3.9.13' requires the ipykernel package.\n",
            "\u001b[1;31mRun the following command to install 'ipykernel' into the Python environment. \n",
            "\u001b[1;31mCommand: '\"c:/Users/Jayesh Patidar/AppData/Local/Microsoft/WindowsApps/python3.9.exe\" -m pip install ipykernel -U --user --force-reinstall'"
          ]
        }
      ],
      "source": [
        "True_MegaWatt = TestData[\"AEP_MW\"].to_list()\n",
        "Predicted_MegaWatt  = predicted_stock_price\n",
        "dates = TestData.index.to_list()"
      ]
    },
    {
      "cell_type": "code",
      "execution_count": null,
      "metadata": {
        "id": "KidwxxRPDYUG"
      },
      "outputs": [
        {
          "ename": "",
          "evalue": "",
          "output_type": "error",
          "traceback": [
            "\u001b[1;31mRunning cells with 'Python 3.9.13' requires the ipykernel package.\n",
            "\u001b[1;31mRun the following command to install 'ipykernel' into the Python environment. \n",
            "\u001b[1;31mCommand: '\"c:/Users/Jayesh Patidar/AppData/Local/Microsoft/WindowsApps/python3.9.exe\" -m pip install ipykernel -U --user --force-reinstall'"
          ]
        }
      ],
      "source": [
        "Machine_Df = pd.DataFrame(data={\n",
        "    \"Date\":dates,\n",
        "    \"TrueMegaWatt\": True_MegaWatt,\n",
        "    \"PredictedMeagWatt\":[x[0] for x in Predicted_MegaWatt ]\n",
        "})"
      ]
    },
    {
      "cell_type": "markdown",
      "metadata": {
        "id": "Nz0zPah2Dbag"
      },
      "source": [
        "# Future Prediction"
      ]
    },
    {
      "cell_type": "code",
      "execution_count": null,
      "metadata": {
        "colab": {
          "base_uri": "https://localhost:8080/",
          "height": 424
        },
        "id": "jSg954tDDdcV",
        "outputId": "85b34d66-80e5-4c3c-c42a-6f2630c2fb7e"
      },
      "outputs": [
        {
          "ename": "",
          "evalue": "",
          "output_type": "error",
          "traceback": [
            "\u001b[1;31mRunning cells with 'Python 3.9.13' requires the ipykernel package.\n",
            "\u001b[1;31mRun the following command to install 'ipykernel' into the Python environment. \n",
            "\u001b[1;31mCommand: '\"c:/Users/Jayesh Patidar/AppData/Local/Microsoft/WindowsApps/python3.9.exe\" -m pip install ipykernel -U --user --force-reinstall'"
          ]
        }
      ],
      "source": [
        "Machine_Df"
      ]
    },
    {
      "cell_type": "code",
      "execution_count": null,
      "metadata": {
        "id": "Xzd0KoVJD1Q3"
      },
      "outputs": [
        {
          "ename": "",
          "evalue": "",
          "output_type": "error",
          "traceback": [
            "\u001b[1;31mRunning cells with 'Python 3.9.13' requires the ipykernel package.\n",
            "\u001b[1;31mRun the following command to install 'ipykernel' into the Python environment. \n",
            "\u001b[1;31mCommand: '\"c:/Users/Jayesh Patidar/AppData/Local/Microsoft/WindowsApps/python3.9.exe\" -m pip install ipykernel -U --user --force-reinstall'"
          ]
        }
      ],
      "source": [
        "True_MegaWatt = TestData[\"AEP_MW\"].to_list()\n",
        "Predicted_MegaWatt = [x[0] for x in Predicted_MegaWatt]\n",
        "dates = TestData.index.to_list()"
      ]
    },
    {
      "cell_type": "code",
      "execution_count": null,
      "metadata": {
        "colab": {
          "base_uri": "https://localhost:8080/",
          "height": 733
        },
        "id": "wYPKd9w_DpTU",
        "outputId": "ad475cf4-875a-4877-dcc1-bcbf909b3f25"
      },
      "outputs": [
        {
          "ename": "",
          "evalue": "",
          "output_type": "error",
          "traceback": [
            "\u001b[1;31mRunning cells with 'Python 3.9.13' requires the ipykernel package.\n",
            "\u001b[1;31mRun the following command to install 'ipykernel' into the Python environment. \n",
            "\u001b[1;31mCommand: '\"c:/Users/Jayesh Patidar/AppData/Local/Microsoft/WindowsApps/python3.9.exe\" -m pip install ipykernel -U --user --force-reinstall'"
          ]
        }
      ],
      "source": [
        "fig = plt.figure()\n",
        "\n",
        "ax1= fig.add_subplot(111)\n",
        "\n",
        "x = dates\n",
        "y = True_MegaWatt\n",
        "\n",
        "y1 = Predicted_MegaWatt\n",
        "\n",
        "plt.plot(x,y, color=\"green\")\n",
        "plt.plot(x,y1, color=\"red\")\n",
        "# beautify the x-labels\n",
        "plt.gcf().autofmt_xdate()\n",
        "plt.xlabel('Dates')\n",
        "plt.ylabel(\"Power in MW\")\n",
        "plt.title(\"Machine Learned the Pattern Predicting Future Values \")\n",
        "plt.legend()"
      ]
    }
  ],
  "metadata": {
    "colab": {
      "provenance": []
    },
    "kernelspec": {
      "display_name": "Python 3",
      "name": "python3"
    },
    "language_info": {
      "name": "python",
      "version": "3.9.13"
    }
  },
  "nbformat": 4,
  "nbformat_minor": 0
}
